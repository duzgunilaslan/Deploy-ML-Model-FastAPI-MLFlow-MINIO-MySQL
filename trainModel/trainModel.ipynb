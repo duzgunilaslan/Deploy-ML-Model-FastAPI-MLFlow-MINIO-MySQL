{
 "cells": [
  {
   "cell_type": "code",
   "execution_count": 1,
   "id": "1395101a-86d0-4516-a404-f8a6c48b6ddc",
   "metadata": {},
   "outputs": [],
   "source": [
    "import pandas as pd\n",
    "import numpy as np\n",
    "import os\n",
    "from sklearn.model_selection import train_test_split\n",
    "from sklearn.ensemble import RandomForestRegressor\n",
    "from sklearn.metrics import mean_squared_error, mean_absolute_error, r2_score\n",
    "from urllib.parse import urlparse\n",
    "from mlflow.tracking import MlflowClient\n",
    "import mlflow.sklearn\n",
    "from mlflow.store.artifact.runs_artifact_repo import RunsArtifactRepository"
   ]
  },
  {
   "cell_type": "code",
   "execution_count": 2,
   "id": "78989208",
   "metadata": {},
   "outputs": [
    {
     "name": "stdout",
     "output_type": "stream",
     "text": [
      "           DateTime Holiday  HolidayFlag  DayOfWeek  WeekOfYear  Day  Month  \\\n",
      "0  01/11/2011 00:00    None            0          1          44    1     11   \n",
      "1  01/11/2011 00:30    None            0          1          44    1     11   \n",
      "2  01/11/2011 01:00    None            0          1          44    1     11   \n",
      "3  01/11/2011 01:30    None            0          1          44    1     11   \n",
      "4  01/11/2011 02:00    None            0          1          44    1     11   \n",
      "\n",
      "   Year  PeriodOfDay ForecastWindProduction SystemLoadEA  SMPEA  \\\n",
      "0  2011            0                 315.31      3388.77  49.26   \n",
      "1  2011            1                 321.80      3196.66  49.26   \n",
      "2  2011            2                 328.57      3060.71  49.10   \n",
      "3  2011            3                 335.60      2945.56  48.04   \n",
      "4  2011            4                 342.90      2849.34  33.75   \n",
      "\n",
      "  ORKTemperature ORKWindspeed CO2Intensity ActualWindProduction SystemLoadEP2  \\\n",
      "0           6.00         9.30       600.71               356.00       3159.60   \n",
      "1           6.00        11.10       605.42               317.00       2973.01   \n",
      "2           5.00        11.10       589.97               311.00       2834.00   \n",
      "3           6.00         9.30       585.94               313.00       2725.99   \n",
      "4           6.00        11.10       571.52               346.00       2655.64   \n",
      "\n",
      "  SMPEP2  \n",
      "0  54.32  \n",
      "1  54.23  \n",
      "2  54.23  \n",
      "3  53.47  \n",
      "4  39.87  \n"
     ]
    },
    {
     "name": "stderr",
     "output_type": "stream",
     "text": [
      "C:\\Users\\duzgun.ilaslan\\AppData\\Local\\Temp\\ipykernel_40764\\1207577859.py:2: DtypeWarning: Columns (9,10,11,14,15,16,17) have mixed types. Specify dtype option on import or set low_memory=False.\n",
      "  data = pd.read_csv(\"https://raw.githubusercontent.com/amankharwal/Website-data/master/electricity.csv\")\n"
     ]
    }
   ],
   "source": [
    "# Read dataset and split as train test\n",
    "data = pd.read_csv(\"https://raw.githubusercontent.com/amankharwal/Website-data/master/electricity.csv\")\n",
    "print(data.head())"
   ]
  },
  {
   "cell_type": "code",
   "execution_count": 2,
   "id": "a9c3d2ab-6c08-4332-827f-32826bde2071",
   "metadata": {},
   "outputs": [
    {
     "name": "stdout",
     "output_type": "stream",
     "text": [
      "   ID     TV  Radio  Newspaper  Sales\n",
      "0   1  230.1   37.8       69.2   22.1\n",
      "1   2   44.5   39.3       45.1   10.4\n",
      "2   3   17.2   45.9       69.3    9.3\n",
      "3   4  151.5   41.3       58.5   18.5\n",
      "4   5  180.8   10.8       58.4   12.9\n",
      "(200, 3)\n",
      "[[230.1  37.8  69.2]\n",
      " [ 44.5  39.3  45.1]\n",
      " [ 17.2  45.9  69.3]]\n",
      "(200,)\n",
      "0    22.1\n",
      "1    10.4\n",
      "2     9.3\n",
      "3    18.5\n",
      "4    12.9\n",
      "5     7.2\n",
      "Name: Sales, dtype: float64\n"
     ]
    }
   ],
   "source": [
    "# Read dataset\n",
    "data = pd.read_csv(\"https://raw.githubusercontent.com/amankharwal/Website-data/master/electricity.csv\")\n",
    "print(data.head())"
   ]
  },
  {
   "cell_type": "code",
   "execution_count": 3,
   "id": "13bf407d",
   "metadata": {},
   "outputs": [],
   "source": [
    "# Convert values to numeric\n",
    "\n",
    "data[\"ForecastWindProduction\"] = pd.to_numeric(data[\"ForecastWindProduction\"], errors= 'coerce')\n",
    "data[\"SystemLoadEA\"] = pd.to_numeric(data[\"SystemLoadEA\"], errors= 'coerce')\n",
    "data[\"SMPEA\"] = pd.to_numeric(data[\"SMPEA\"], errors= 'coerce')\n",
    "data[\"ORKTemperature\"] = pd.to_numeric(data[\"ORKTemperature\"], errors= 'coerce')\n",
    "data[\"ORKWindspeed\"] = pd.to_numeric(data[\"ORKWindspeed\"], errors= 'coerce')\n",
    "data[\"CO2Intensity\"] = pd.to_numeric(data[\"CO2Intensity\"], errors= 'coerce')\n",
    "data[\"ActualWindProduction\"] = pd.to_numeric(data[\"ActualWindProduction\"], errors= 'coerce')\n",
    "data[\"SystemLoadEP2\"] = pd.to_numeric(data[\"SystemLoadEP2\"], errors= 'coerce')\n",
    "data[\"SMPEP2\"] = pd.to_numeric(data[\"SMPEP2\"], errors= 'coerce') "
   ]
  },
  {
   "cell_type": "code",
   "execution_count": 4,
   "id": "77397b9d",
   "metadata": {},
   "outputs": [],
   "source": [
    "# Delete all null values\n",
    "data = data.dropna()"
   ]
  },
  {
   "cell_type": "code",
   "execution_count": 5,
   "id": "eebb275d",
   "metadata": {},
   "outputs": [],
   "source": [
    "# Split the data as  X and y after train and test\n",
    "X = data[[\"Day\", \"Month\", \"ForecastWindProduction\", \"SystemLoadEA\", \n",
    "          \"SMPEA\", \"ORKTemperature\", \"ORKWindspeed\", \"CO2Intensity\", \n",
    "          \"ActualWindProduction\", \"SystemLoadEP2\"]]\n",
    "y = data[\"SMPEP2\"]\n",
    "\n",
    "X_train, X_test, y_train, y_test = train_test_split(X, y, \n",
    "                                                test_size=0.2, \n",
    "                                                random_state=42)"
   ]
  },
  {
   "attachments": {},
   "cell_type": "markdown",
   "id": "59f88177-5a23-4b45-b00b-9815f53208ba",
   "metadata": {},
   "source": [
    "# MLflow"
   ]
  },
  {
   "cell_type": "code",
   "execution_count": 3,
   "id": "09c858bc-c591-4ce9-a5e0-cea8f3761494",
   "metadata": {},
   "outputs": [],
   "source": [
    "# Determine the Urls\n",
    "os.environ['MLFLOW_TRACKING_URI'] = 'http://localhost:5001/'\n",
    "os.environ['MLFLOW_S3_ENDPOINT_URL'] = 'http://localhost:9000/'"
   ]
  },
  {
   "cell_type": "code",
   "execution_count": 4,
   "id": "0fc1b0d3-f15e-4392-908d-bd2b7af0f105",
   "metadata": {},
   "outputs": [],
   "source": [
    "# Eveluation metric method\n",
    "def eval_metrics(actual, pred):\n",
    "    rmse = np.sqrt(mean_squared_error(actual, pred))\n",
    "    mae = mean_absolute_error(actual, pred)\n",
    "    r2 = r2_score(actual, pred)\n",
    "    return rmse, mae, r2"
   ]
  },
  {
   "cell_type": "code",
   "execution_count": 5,
   "id": "ef6a446a-9c94-42b3-8784-8a18f8569bdd",
   "metadata": {},
   "outputs": [],
   "source": [
    "# Set MLflow experiment\n",
    "experiment_name = \"Deploy Model using FastAPI-MLflow-MINIO\"\n",
    "mlflow.set_experiment(experiment_name)\n",
    "\n",
    "registered_model_name=\"RFElectricityPricePrediction\""
   ]
  },
  {
   "cell_type": "code",
   "execution_count": 6,
   "id": "7d9a1c92-c085-4ddf-b379-cab1ab513c8a",
   "metadata": {},
   "outputs": [],
   "source": [
    "# Determine number of model trees\n",
    "number_of_trees=200"
   ]
  },
  {
   "cell_type": "code",
   "execution_count": 7,
   "id": "8d4397a5-0e2f-4879-a00a-8958ce84530c",
   "metadata": {},
   "outputs": [
    {
     "name": "stdout",
     "output_type": "stream",
     "text": [
      "Random Forest model number of trees: 200\n",
      "  RMSE: 0.6987288024648354\n",
      "  MAE: 0.5835151515151545\n",
      "  R2: 0.9810832419633377\n"
     ]
    },
    {
     "name": "stderr",
     "output_type": "stream",
     "text": [
      "Registered model 'AdvertisingRFModel' already exists. Creating a new version of this model...\n",
      "2022/05/18 10:35:11 INFO mlflow.tracking._model_registry.client: Waiting up to 300 seconds for model version to finish creation.                     Model name: AdvertisingRFModel, version 3\n",
      "Created version '3' of model 'AdvertisingRFModel'.\n"
     ]
    }
   ],
   "source": [
    " with mlflow.start_run(run_name=\"with-reg-rf-sklearn\") as run:\n",
    "        estimator = RandomForestRegressor(n_estimators=number_of_trees)\n",
    "        estimator.fit(X_train, y_train)\n",
    "\n",
    "        y_pred = estimator.predict(X_test)\n",
    "\n",
    "        (rmse, mae, r2) = eval_metrics(y_test, y_pred)\n",
    "\n",
    "        print(f\"Random Forest model number of trees: {number_of_trees}\")\n",
    "        print(\"  RMSE: %s\" % rmse)\n",
    "        print(\"  MAE: %s\" % mae)\n",
    "        print(\"  R2: %s\" % r2)\n",
    "\n",
    "        mlflow.log_param(\"n_estimators\", number_of_trees)\n",
    "        mlflow.log_metric(\"rmse\", rmse)\n",
    "        mlflow.log_metric(\"r2\", r2)\n",
    "        mlflow.log_metric(\"mae\", mae)\n",
    "        \n",
    "        tracking_url_type_store = urlparse(mlflow.get_tracking_uri()).scheme\n",
    "\n",
    "        # Model registry does not work with file store\n",
    "        if tracking_url_type_store != \"file\":\n",
    "\n",
    "            # Register the model\n",
    "            mlflow.sklearn.log_model(estimator, \"model\", registered_model_name=registered_model_name)\n",
    "        else:\n",
    "            mlflow.sklearn.log_model(estimator, \"model\")"
   ]
  },
  {
   "attachments": {},
   "cell_type": "markdown",
   "id": "483a597d-e45f-4613-937f-fa9c52f6dbe1",
   "metadata": {},
   "source": [
    "# Optional Part"
   ]
  },
  {
   "cell_type": "code",
   "execution_count": 9,
   "id": "85ef6abf-6b32-4a21-b5d8-0e4f433a7b3c",
   "metadata": {},
   "outputs": [],
   "source": [
    "name = registered_model_name\n",
    "client = MlflowClient()\n",
    "# client.create_registered_model(name)"
   ]
  },
  {
   "cell_type": "code",
   "execution_count": 10,
   "id": "0ac3eee0-3ab5-4e52-913f-00c6f52f5e9a",
   "metadata": {},
   "outputs": [
    {
     "name": "stdout",
     "output_type": "stream",
     "text": [
      "runs:/e6f60e9f9c4e413988a6a22610e2be79/sklearn-model\n"
     ]
    }
   ],
   "source": [
    "model_uri = \"runs:/{}/sklearn-model\".format(run.info.run_id)\n",
    "print(model_uri)"
   ]
  },
  {
   "cell_type": "code",
   "execution_count": 14,
   "id": "0303261b-d84c-471c-8149-6d5dc16d712a",
   "metadata": {},
   "outputs": [
    {
     "name": "stderr",
     "output_type": "stream",
     "text": [
      "2022/05/18 10:38:28 INFO mlflow.tracking._model_registry.client: Waiting up to 300 seconds for model version to finish creation.                     Model name: AdvertisingRFModel, version 6\n"
     ]
    },
    {
     "name": "stdout",
     "output_type": "stream",
     "text": [
      "model version 6 created\n",
      "6\n"
     ]
    }
   ],
   "source": [
    "mv = client.create_model_version(name, model_uri, run.info.run_id)\n",
    "print(\"model version {} created\".format(mv.version))\n",
    "last_mv = mv.version\n",
    "print(last_mv)"
   ]
  },
  {
   "cell_type": "code",
   "execution_count": null,
   "id": "844bfcfe-69c0-47b8-856c-ed13c6038e24",
   "metadata": {},
   "outputs": [],
   "source": [
    "def print_models_info(models):\n",
    "    for m in models:\n",
    "        print(\"name: {}\".format(m.name))\n",
    "        print(\"latest version: {}\".format(m.version))\n",
    "        print(\"run_id: {}\".format(m.run_id))\n",
    "        print(\"current_stage: {}\".format(m.current_stage))\n",
    "\n",
    "def get_latest_model_version(models):\n",
    "    for m in models:\n",
    "        print(\"name: {}\".format(m.name))\n",
    "        print(\"latest version: {}\".format(m.version))\n",
    "        print(\"run_id: {}\".format(m.run_id))\n",
    "        print(\"current_stage: {}\".format(m.current_stage))\n",
    "    return m.version\n",
    "\n",
    "models = client.get_latest_versions(name, stages=[\"None\"])\n",
    "print_models_info(models)\n",
    "\n",
    "print(f\"Latest version: { get_latest_model_version(models) }\")"
   ]
  }
 ],
 "metadata": {
  "kernelspec": {
   "display_name": "VBO",
   "language": "python",
   "name": "python3"
  },
  "language_info": {
   "codemirror_mode": {
    "name": "ipython",
    "version": 3
   },
   "file_extension": ".py",
   "mimetype": "text/x-python",
   "name": "python",
   "nbconvert_exporter": "python",
   "pygments_lexer": "ipython3",
   "version": "3.8.10"
  }
 },
 "nbformat": 4,
 "nbformat_minor": 5
}
